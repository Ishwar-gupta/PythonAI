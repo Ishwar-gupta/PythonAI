{
 "cells": [
  {
   "cell_type": "code",
   "execution_count": 11,
   "id": "511285ff",
   "metadata": {},
   "outputs": [
    {
     "name": "stdout",
     "output_type": "stream",
     "text": [
      "Basic Slicing: [3 4 5 6 7]\n",
      "Slicing with steps: [2 5 8]\n",
      "Negative Index: 7\n",
      "Negative Index: [7 8 9]\n"
     ]
    }
   ],
   "source": [
    "import numpy as np\n",
    "arr=np.array([1,2,3,4,5,6,7,8,9])\n",
    "print(\"Basic Slicing:\",arr[2:7])\n",
    "print(\"Slicing with steps:\",arr[1:9:3])\n",
    "print(\"Negative Index:\",arr[-3])\n",
    "print(\"Negative Index:\",arr[-3:])"
   ]
  },
  {
   "cell_type": "markdown",
   "id": "4265a6ad",
   "metadata": {},
   "source": [
    "### 2D Array Slicing"
   ]
  },
  {
   "cell_type": "code",
   "execution_count": null,
   "id": "ecd3f26f",
   "metadata": {},
   "outputs": [
    {
     "name": "stdout",
     "output_type": "stream",
     "text": [
      "Entire first Row: [1 2 3]\n",
      "Entire second Row: [4 5 6]\n",
      "Specific Element: 3\n",
      "Entire column: [3 6 9]\n"
     ]
    }
   ],
   "source": [
    "arr_2d=np.array([[1,2,3],\n",
    "                 [4,5,6],\n",
    "                 [7,8,9]])\n",
    "print(\"Entire first Row:\",arr_2d[0]) # first row\n",
    "print(\"Entire second Row:\",arr_2d[1]) # Second row\n",
    "print(\"Specific Element:\",arr_2d[0,2]) #specific element\n",
    "# print(\"Speciic not found element:\",arr_2d[1,5]) this will gives error\n",
    "\"\"\"   to find entire columns   \"\"\"\n",
    "print(\"Entire column:\",arr_2d[:, 2])   # [3,6,9]"
   ]
  },
  {
   "cell_type": "markdown",
   "id": "e84b2e0a",
   "metadata": {},
   "source": [
    "### Sorting 2D Array"
   ]
  },
  {
   "cell_type": "code",
   "execution_count": null,
   "id": "36110f41",
   "metadata": {},
   "outputs": [
    {
     "name": "stdout",
     "output_type": "stream",
     "text": [
      "Sorted Array: [ 1  1  2  2  4  5  8  9 30]\n",
      "2D Array Sorting by cloumn:\n",
      " [[1 2 3]\n",
      " [2 5 6]\n",
      " [9 8 7]]\n",
      "2D Array Sorting by rows:\n",
      " [[1 2 3]\n",
      " [7 8 9]\n",
      " [2 5 6]]\n"
     ]
    }
   ],
   "source": [
    "unsorted=np.array([1,2,8,9,4,30,5,1,2])\n",
    "print(\"Sorted Array:\",np.sort((unsorted)))\n",
    " \n",
    "arr_2d_unsorted=np.array([[1,2,3],\n",
    "                          [9,8,7],\n",
    "                          [2,5,6]])\n",
    "#  0 -> column-wise    and  1 -> row-wise\n",
    "print(\"2D Array Sorting by cloumn:\\n\",np.sort(arr_2d_unsorted,axis=0))\n",
    "print(\"2D Array Sorting by rows:\\n\",np.sort(arr_2d_unsorted,axis=1))"
   ]
  },
  {
   "cell_type": "markdown",
   "id": "3737a8cd",
   "metadata": {},
   "source": [
    "### Filter"
   ]
  },
  {
   "cell_type": "code",
   "execution_count": null,
   "id": "6c7f55c5",
   "metadata": {},
   "outputs": [
    {
     "name": "stdout",
     "output_type": "stream",
     "text": [
      "Even Numbers: [ 0  2  4  6  8 10]\n"
     ]
    }
   ],
   "source": [
    "numbers=np.arange(11)\n",
    "even_numbers=numbers[numbers % 2 == 0]\n",
    "print(\"Even Numbers:\",even_numbers)"
   ]
  },
  {
   "cell_type": "markdown",
   "id": "f1b4c50e",
   "metadata": {},
   "source": [
    "### Filter with mask "
   ]
  },
  {
   "cell_type": "code",
   "execution_count": null,
   "id": "a7f5ba71",
   "metadata": {},
   "outputs": [
    {
     "name": "stdout",
     "output_type": "stream",
     "text": [
      "Numbers greater than 5: [ 6  7  8  9 10]\n"
     ]
    }
   ],
   "source": [
    "mask=numbers>5\n",
    "print(\"Numbers greater than 5:\",numbers[mask])"
   ]
  },
  {
   "cell_type": "markdown",
   "id": "cc43359e",
   "metadata": {},
   "source": [
    "### Fancy Indexing vs np.where()"
   ]
  },
  {
   "cell_type": "code",
   "execution_count": 32,
   "id": "9a9c1f3d",
   "metadata": {},
   "outputs": [
    {
     "name": "stdout",
     "output_type": "stream",
     "text": [
      "[0 2 6]\n"
     ]
    }
   ],
   "source": [
    "# print(numbers)\n",
    "indices=[0,2,6]\n",
    "print(numbers[indices])"
   ]
  },
  {
   "cell_type": "code",
   "execution_count": 33,
   "id": "7b074ec0",
   "metadata": {},
   "outputs": [
    {
     "name": "stdout",
     "output_type": "stream",
     "text": [
      "(array([ 6,  7,  8,  9, 10]),)\n",
      "Np where: [ 6  7  8  9 10]\n"
     ]
    }
   ],
   "source": [
    "where_result=np.where(numbers>5)\n",
    "print(where_result)\n",
    "print(\"Np where:\",numbers[where_result])"
   ]
  },
  {
   "cell_type": "code",
   "execution_count": null,
   "id": "382ea602",
   "metadata": {},
   "outputs": [
    {
     "name": "stdout",
     "output_type": "stream",
     "text": [
      "[ 0  1  2  3  4  5 12 14 16 18 20]\n"
     ]
    }
   ],
   "source": [
    "condition=np.where(numbers>5,numbers*2,numbers)\n",
    "print(condition)"
   ]
  },
  {
   "cell_type": "markdown",
   "id": "17a6e892",
   "metadata": {},
   "source": [
    "### Adding and Removing data"
   ]
  },
  {
   "cell_type": "code",
   "execution_count": null,
   "id": "c1abc6dd",
   "metadata": {},
   "outputs": [
    {
     "name": "stdout",
     "output_type": "stream",
     "text": [
      "Adding corresponding elements of Array: [5 7 9]\n",
      "Concating two array: [1 2 3 4 5 6]\n",
      "deleted1 after deletion: [2 3]\n",
      "deleted2 after deletion: [4 5]\n"
     ]
    }
   ],
   "source": [
    "arr1=np.array([1,2,3])\n",
    "arr2=np.array([4,5,6])\n",
    "combined=arr1+arr2\n",
    "concatenatedArr=np.concatenate((arr1,arr2))\n",
    "print(\"Adding corresponding elements of Array:\",combined)\n",
    "print(\"Concating two array:\",concatenatedArr)\n",
    "\"\"\"   Deleting array element using delete() methods \"\"\"\n",
    "deleted1=np.delete(arr1,0) # 0 means it's index\n",
    "deleted2=np.delete(arr2,2)\n",
    "print(\"deleted1 after deletion:\",deleted1)\n",
    "print(\"deleted2 after deletion:\",deleted2)"
   ]
  },
  {
   "cell_type": "markdown",
   "id": "4fd04e76",
   "metadata": {},
   "source": [
    "### Compatibility shapes (True or False)"
   ]
  },
  {
   "cell_type": "code",
   "execution_count": null,
   "id": "bccff117",
   "metadata": {},
   "outputs": [
    {
     "name": "stdout",
     "output_type": "stream",
     "text": [
      "Compability shapes: True\n",
      "Compatability shapes: False\n"
     ]
    }
   ],
   "source": [
    "arr1=np.array([1,2,3,4])\n",
    "arr2=np.array([5,2,6,8,9,4])\n",
    "arr3=np.array([2,3,4,0])\n",
    "print(\"Compability shapes:\",arr1.shape==arr3.shape) # True\n",
    "print(\"Compatability shapes:\",arr1.shape==arr2.shape) # False"
   ]
  },
  {
   "cell_type": "markdown",
   "id": "c6ee91f3",
   "metadata": {},
   "source": [
    "### Adding new rows and columns in existing array using vstack and hstack"
   ]
  },
  {
   "cell_type": "code",
   "execution_count": 50,
   "id": "f998e74f",
   "metadata": {},
   "outputs": [
    {
     "name": "stdout",
     "output_type": "stream",
     "text": [
      "Original Array:\n",
      " [[1 2]\n",
      " [4 5]]\n",
      "********* Adding new rows  similar to the append  ********\n",
      " vtack method used to add entire row\n",
      "Array after adding new row:\n",
      " [[1 2]\n",
      " [4 5]\n",
      " [7 9]]\n",
      "********* Adding new rows  similar to the append  ********\n",
      " htack method used to add entire column.\n",
      "Array after adding new columns:\n",
      " [[ 1  2 10]\n",
      " [ 4  5  9]]\n"
     ]
    }
   ],
   "source": [
    "original=np.array([[1,2],\n",
    "                   [4,5]])\n",
    "new_row=np.array([[7,9]])\n",
    "print(\"Original Array:\\n\",original)\n",
    "print(\"********* Adding new rows  similar to the append  ********\")\n",
    "print(\" vtack method used to add entire row\")\n",
    "print(\"Array after adding new row:\\n\",np.vstack((original,new_row)))\n",
    "print(\"********* Adding new rows  similar to the append  ********\")\n",
    "new_col=np.array([[10],[9]])\n",
    "print(\" htack method used to add entire column.\")\n",
    "print(\"Array after adding new columns:\\n\",np.hstack((original,new_col)))"
   ]
  },
  {
   "cell_type": "code",
   "execution_count": null,
   "id": "8852d287",
   "metadata": {},
   "outputs": [],
   "source": []
  }
 ],
 "metadata": {
  "kernelspec": {
   "display_name": ".venv (3.10.12)",
   "language": "python",
   "name": "python3"
  },
  "language_info": {
   "codemirror_mode": {
    "name": "ipython",
    "version": 3
   },
   "file_extension": ".py",
   "mimetype": "text/x-python",
   "name": "python",
   "nbconvert_exporter": "python",
   "pygments_lexer": "ipython3",
   "version": "3.10.12"
  }
 },
 "nbformat": 4,
 "nbformat_minor": 5
}
