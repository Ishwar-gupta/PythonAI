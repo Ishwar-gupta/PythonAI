{
 "cells": [
  {
   "cell_type": "markdown",
   "id": "9a0215ac",
   "metadata": {},
   "source": [
    "# Creating Array from List"
   ]
  },
  {
   "cell_type": "code",
   "execution_count": 1,
   "id": "a2066e69",
   "metadata": {},
   "outputs": [],
   "source": [
    "import numpy as np"
   ]
  },
  {
   "cell_type": "code",
   "execution_count": 2,
   "id": "7d1940f2",
   "metadata": {},
   "outputs": [
    {
     "name": "stdout",
     "output_type": "stream",
     "text": [
      "1D array: [1 2 3 4 5 6]\n"
     ]
    }
   ],
   "source": [
    "arr_1d=np.array([1,2,3,4,5,6])\n",
    "print(\"1D array:\",arr_1d)"
   ]
  },
  {
   "cell_type": "code",
   "execution_count": 3,
   "id": "8df625a9",
   "metadata": {},
   "outputs": [
    {
     "name": "stdout",
     "output_type": "stream",
     "text": [
      "2D array:\n",
      " [[1 2 3]\n",
      " [3 4 5]\n",
      " [5 6 7]]\n"
     ]
    }
   ],
   "source": [
    "arr_2d=np.array([[1,2,3],[3,4,5],[5,6,7]])\n",
    "print(\"2D array:\\n\",arr_2d)"
   ]
  },
  {
   "cell_type": "markdown",
   "id": "de84af4e",
   "metadata": {},
   "source": [
    "### list vs numpy array"
   ]
  },
  {
   "cell_type": "markdown",
   "id": "c6080f6c",
   "metadata": {},
   "source": [
    "#### list just duplicate it n times but numpy arr exactly multiply element wise"
   ]
  },
  {
   "cell_type": "code",
   "execution_count": 4,
   "id": "a66f9f13",
   "metadata": {},
   "outputs": [
    {
     "name": "stdout",
     "output_type": "stream",
     "text": [
      "Python list multiplication:\n",
      "  [1, 2, 3, 5, 4, 1, 2, 3, 5, 4]\n"
     ]
    }
   ],
   "source": [
    "pyList=[1,2,3,5,4]\n",
    "print(\"Python list multiplication:\\n \",pyList*2)  # it just duplicate it 2 times"
   ]
  },
  {
   "cell_type": "code",
   "execution_count": 5,
   "id": "41f13b09",
   "metadata": {},
   "outputs": [],
   "source": [
    "npArr=np.array([1,2,3])"
   ]
  },
  {
   "cell_type": "code",
   "execution_count": 6,
   "id": "af716500",
   "metadata": {},
   "outputs": [
    {
     "name": "stdout",
     "output_type": "stream",
     "text": [
      "Python Array multipliction:\n",
      " [2 4 6]\n"
     ]
    }
   ],
   "source": [
    "print(\"Python Array multipliction:\\n\",npArr*2)  # it perform element wise multiplication"
   ]
  },
  {
   "cell_type": "code",
   "execution_count": 7,
   "id": "52cab3a2",
   "metadata": {},
   "outputs": [
    {
     "name": "stdout",
     "output_type": "stream",
     "text": [
      "\n",
      " List operation time: 0.4822220802307129\n"
     ]
    }
   ],
   "source": [
    "import time as tm\n",
    "start=tm.time()\n",
    "py_list=[i*2 for i in range(1000000)]\n",
    "print(\"\\n List operation time:\",tm.time()-start)"
   ]
  },
  {
   "cell_type": "code",
   "execution_count": 8,
   "id": "94eaae93",
   "metadata": {},
   "outputs": [
    {
     "name": "stdout",
     "output_type": "stream",
     "text": [
      "\n",
      " Numpy operation time: 0.022936344146728516\n"
     ]
    }
   ],
   "source": [
    "start=tm.time()\n",
    "np.array=np.arange(1000000)*2\n",
    "print(\"\\n Numpy operation time:\",tm.time()-start)"
   ]
  },
  {
   "cell_type": "markdown",
   "id": "3ff6e6d1",
   "metadata": {},
   "source": [
    "### creating zeros from scratch"
   ]
  },
  {
   "cell_type": "code",
   "execution_count": 9,
   "id": "0db9be10",
   "metadata": {},
   "outputs": [
    {
     "name": "stdout",
     "output_type": "stream",
     "text": [
      "Zeros array:\n",
      " [[0. 0. 0.]\n",
      " [0. 0. 0.]\n",
      " [0. 0. 0.]]\n"
     ]
    }
   ],
   "source": [
    "import numpy as np\n",
    "zeros=np.zeros((3,3))\n",
    "print(\"Zeros array:\\n\",zeros)"
   ]
  },
  {
   "cell_type": "code",
   "execution_count": 10,
   "id": "dadb3668",
   "metadata": {},
   "outputs": [
    {
     "name": "stdout",
     "output_type": "stream",
     "text": [
      "Ones Array:\n",
      " [[1. 1. 1.]\n",
      " [1. 1. 1.]\n",
      " [1. 1. 1.]\n",
      " [1. 1. 1.]]\n"
     ]
    }
   ],
   "source": [
    "ones=np.ones((4,3))\n",
    "print(\"Ones Array:\\n\",ones)"
   ]
  },
  {
   "cell_type": "code",
   "execution_count": 11,
   "id": "d62825bb",
   "metadata": {},
   "outputs": [
    {
     "name": "stdout",
     "output_type": "stream",
     "text": [
      "full array:\n",
      " [[5 5 5 5]\n",
      " [5 5 5 5]\n",
      " [5 5 5 5]\n",
      " [5 5 5 5]\n",
      " [5 5 5 5]]\n"
     ]
    }
   ],
   "source": [
    "full=np.full((5,4),5)\n",
    "print(\"full array:\\n\",full)"
   ]
  },
  {
   "cell_type": "code",
   "execution_count": null,
   "id": "4a6b8fe9",
   "metadata": {},
   "outputs": [
    {
     "name": "stdout",
     "output_type": "stream",
     "text": [
      "Sequence Array:\n",
      " [ 0  2  4  6  8 10]\n",
      "Sequence Array:\n",
      " [ 0  4  8 12 16 20]\n"
     ]
    }
   ],
   "source": [
    "sequence=np.arange(0,11,2)\n",
    "print(\"Sequence Array:\\n\",sequence)\n",
    "print(\"Sequence Array:\\n\",sequence*2)\n"
   ]
  },
  {
   "cell_type": "markdown",
   "id": "37980daa",
   "metadata": {},
   "source": [
    "### Vector , matrix and Tensor"
   ]
  },
  {
   "cell_type": "code",
   "execution_count": null,
   "id": "5d1151b5",
   "metadata": {},
   "outputs": [
    {
     "name": "stdout",
     "output_type": "stream",
     "text": [
      "Vector: [3 9 1]\n"
     ]
    }
   ],
   "source": [
    "import numpy as nmp\n",
    "vector=nmp.array([3,9,1])\n",
    "print(\"Vector:\",vector)"
   ]
  },
  {
   "cell_type": "code",
   "execution_count": null,
   "id": "ef932cc0",
   "metadata": {},
   "outputs": [
    {
     "name": "stdout",
     "output_type": "stream",
     "text": [
      "Matrix:\n",
      " [[1 2 3]\n",
      " [4 5 6]]\n"
     ]
    }
   ],
   "source": [
    "matrix=nmp.array([[1,2,3],\n",
    "                  [4,5,6]])\n",
    "print(\"Matrix:\\n\",matrix)"
   ]
  },
  {
   "cell_type": "code",
   "execution_count": null,
   "id": "dd852ee0",
   "metadata": {},
   "outputs": [
    {
     "name": "stdout",
     "output_type": "stream",
     "text": [
      "tensor:\n",
      " [[[1 2 3]\n",
      "  [3 4 5]]\n",
      "\n",
      " [[5 6 7]\n",
      "  [7 8 9]]]\n"
     ]
    }
   ],
   "source": [
    "tensor=nmp.array([[[1,2,3],[3,4,5]],\n",
    "                  [[5,6,7],[7,8,9]]])\n",
    "print(\"tensor:\\n\",tensor)"
   ]
  },
  {
   "cell_type": "markdown",
   "id": "d0a692fe",
   "metadata": {},
   "source": [
    "### Array Properties:"
   ]
  },
  {
   "cell_type": "code",
   "execution_count": null,
   "id": "1ce943bc",
   "metadata": {},
   "outputs": [
    {
     "name": "stdout",
     "output_type": "stream",
     "text": [
      "Shape: (3, 3)\n",
      "Dimension: 2\n",
      "Size: 9\n",
      "DataType: int64\n"
     ]
    }
   ],
   "source": [
    "arr=nmp.array([[1,2,3],\n",
    "               [4,5,6],\n",
    "               [0,0,0]])\n",
    "print(\"Shape:\",arr.shape)\n",
    "print(\"Dimension:\",arr.ndim)\n",
    "print(\"Size:\",arr.size)\n",
    "print(\"DataType:\",arr.dtype)"
   ]
  },
  {
   "cell_type": "markdown",
   "id": "a9958484",
   "metadata": {},
   "source": [
    "### Array Reshaping"
   ]
  },
  {
   "cell_type": "code",
   "execution_count": null,
   "id": "6acba93d",
   "metadata": {},
   "outputs": [
    {
     "name": "stdout",
     "output_type": "stream",
     "text": [
      "Original Array: [ 0  1  2  3  4  5  6  7  8  9 10 11]\n",
      "Reshaped Array:\n",
      " [[ 0  1  2  3]\n",
      " [ 4  5  6  7]\n",
      " [ 8  9 10 11]]\n",
      "flatten Array: [ 0  1  2  3  4  5  6  7  8  9 10 11]\n",
      "Raveled Array: [ 0  1  2  3  4  5  6  7  8  9 10 11]\n",
      "Transpose matrix:\n",
      " [[ 0  4  8]\n",
      " [ 1  5  9]\n",
      " [ 2  6 10]\n",
      " [ 3  7 11]]\n"
     ]
    }
   ],
   "source": [
    "Arr=nmp.arange(12)\n",
    "print(\"Original Array:\",Arr)\n",
    "reshaped=Arr.reshape((3,4))\n",
    "print(\"Reshaped Array:\\n\",reshaped)\n",
    "flatten=reshaped.flatten() # flatten method rechanged in linear manner\n",
    "print(\"flatten Array:\",flatten)\n",
    "# ravel (returns view , instead of copy) just like as flattten in linear manner\n",
    "raveled=reshaped.ravel()\n",
    "print(\"Raveled Array:\",raveled)\n",
    "# transpose the matrix using properties arr.T\n",
    "transpose=reshaped.T\n",
    "print(\"Transpose matrix:\\n\",transpose)"
   ]
  },
  {
   "cell_type": "code",
   "execution_count": null,
   "id": "86532437",
   "metadata": {},
   "outputs": [],
   "source": [
    "random=nmp.random.random((2,3))\n",
    "print(\"Random array:\\n\",random)\n",
    "print(\"Random array:\\n\",random*10)"
   ]
  }
 ],
 "metadata": {
  "kernelspec": {
   "display_name": ".venv (3.10.12)",
   "language": "python",
   "name": "python3"
  },
  "language_info": {
   "codemirror_mode": {
    "name": "ipython",
    "version": 3
   },
   "file_extension": ".py",
   "mimetype": "text/x-python",
   "name": "python",
   "nbconvert_exporter": "python",
   "pygments_lexer": "ipython3",
   "version": "3.10.12"
  }
 },
 "nbformat": 4,
 "nbformat_minor": 5
}
