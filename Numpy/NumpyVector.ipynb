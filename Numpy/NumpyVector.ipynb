{
 "cells": [
  {
   "cell_type": "markdown",
   "id": "84f4b0c6",
   "metadata": {},
   "source": [
    "### Vector Visualization"
   ]
  },
  {
   "cell_type": "code",
   "execution_count": 3,
   "id": "c1cc22da",
   "metadata": {},
   "outputs": [
    {
     "name": "stdout",
     "output_type": "stream",
     "text": [
      "Vector Addition: [ 7  9 11 13 15]\n",
      "Vector Multiplication: [ 6 14 24 36 50]\n",
      "Matrix multiplication:\n",
      " [[ 6 14]\n",
      " [18 28]]\n",
      "Dot product: 130\n",
      "Angle between two vector: 0.26554161733900966\n"
     ]
    }
   ],
   "source": [
    "import numpy as np \n",
    "import matplotlib.pyplot as plt\n",
    "vector1=np.array([1,2,3,4,5])\n",
    "vector2=np.array([6,7,8,9,10])\n",
    "print(\"Vector Addition:\",vector1 + vector2)\n",
    "print(\"Vector Multiplication:\",vector1 * vector2)\n",
    "v1=np.array([[1,2],[3,4]])\n",
    "v2=np.array([[6,7]])\n",
    "print(\"Matrix multiplication:\\n\",v1*v2)\n",
    "print(\"Dot product:\",np.dot(vector1,vector2))\n",
    "angle=np.arccos(np.dot(vector1,vector2)/(np.linalg.norm(vector1)*np.linalg.norm(vector2)))\n",
    "print(\"Angle between two vector:\",angle)\n",
    "\n",
    "\n"
   ]
  },
  {
   "cell_type": "markdown",
   "id": "2d874275",
   "metadata": {},
   "source": [
    "### Vectorized Operation"
   ]
  },
  {
   "cell_type": "code",
   "execution_count": 10,
   "id": "860e0a54",
   "metadata": {},
   "outputs": [],
   "source": [
    "array1=np.array([[1,2,3],[4,5,6]])\n",
    "array2=np.random.rand(3,3)\n",
    "array3=np.zeros((4,4))\n",
    "np.save('array1.npy',array1)\n",
    "np.save('array2.npy',array2)\n",
    "np.save('array3.npy',array3)"
   ]
  },
  {
   "cell_type": "code",
   "execution_count": 11,
   "id": "cb303449",
   "metadata": {},
   "outputs": [
    {
     "name": "stdout",
     "output_type": "stream",
     "text": [
      "[[1 2 3]\n",
      " [4 5 6]]\n"
     ]
    }
   ],
   "source": [
    "loaded_array1=np.load('array1.npy')\n",
    "print(loaded_array1)\n"
   ]
  },
  {
   "cell_type": "code",
   "execution_count": 21,
   "id": "8d6dc866",
   "metadata": {},
   "outputs": [
    {
     "data": {
      "text/plain": [
       "'try:\\n    logo = np.load(\\'numpy-logo.npy\\')\\n    # Display the logo\\n    plt.figure(figsize=(10,5))\\n    plt.subplot(121)\\n    # np.save(\"numpy-logo.npy\", logo)\\n    plt.imshow(logo)\\n    plt.title(\"Numpy Logo\")\\n    plt.grid(False)\\n    # plt.show()\\n    dark_mode=1-logo\\n    plt.subplot(122)\\n    plt.imshow(dark_logo)\\n    plt.title(\"Numpy Dark Logo\")\\n    plt.grid(False)\\nexcept FileNotFoundError:\\n    print(\"Numpy logo not found !!\")\\n    '"
      ]
     },
     "execution_count": 21,
     "metadata": {},
     "output_type": "execute_result"
    }
   ],
   "source": [
    "\n",
    "\"\"\"try:\n",
    "    logo = np.load('numpy-logo.npy')\n",
    "    # Display the logo\n",
    "    plt.figure(figsize=(10,5))\n",
    "    plt.subplot(121)\n",
    "    # np.save(\"numpy-logo.npy\", logo)\n",
    "    plt.imshow(logo)\n",
    "    plt.title(\"Numpy Logo\")\n",
    "    plt.grid(False)\n",
    "    # plt.show()\n",
    "    dark_mode=1-logo\n",
    "    plt.subplot(122)\n",
    "    plt.imshow(dark_logo)\n",
    "    plt.title(\"Numpy Dark Logo\")\n",
    "    plt.grid(False)\n",
    "except FileNotFoundError:\n",
    "    print(\"Numpy logo not found !!\")\n",
    "    \"\"\""
   ]
  },
  {
   "cell_type": "code",
   "execution_count": null,
   "id": "6a6bcaa0",
   "metadata": {},
   "outputs": [],
   "source": []
  }
 ],
 "metadata": {
  "kernelspec": {
   "display_name": ".venv (3.10.12)",
   "language": "python",
   "name": "python3"
  },
  "language_info": {
   "codemirror_mode": {
    "name": "ipython",
    "version": 3
   },
   "file_extension": ".py",
   "mimetype": "text/x-python",
   "name": "python",
   "nbconvert_exporter": "python",
   "pygments_lexer": "ipython3",
   "version": "3.10.12"
  }
 },
 "nbformat": 4,
 "nbformat_minor": 5
}
